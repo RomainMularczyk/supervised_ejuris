{
 "cells": [
  {
   "cell_type": "markdown",
   "metadata": {},
   "source": [
    "# Training embeddings"
   ]
  },
  {
   "cell_type": "code",
   "execution_count": 1,
   "metadata": {},
   "outputs": [],
   "source": [
    "import pandas as pd\n",
    "import numpy as np\n",
    "import matplotlib.pyplot as plt\n",
    "from sklearn.decomposition import PCA\n",
    "from gensim import utils, models\n",
    "from preprocessing_functions import remove_widespace, remove_crlf\n",
    "from keras.preprocessing.text import Tokenizer\n",
    "from keras.preprocessing.sequence import pad_sequences\n",
    "from keras.layers import Embedding\n",
    "from tqdm import tqdm\n",
    "import pickle"
   ]
  },
  {
   "cell_type": "markdown",
   "metadata": {},
   "source": [
    "## Import data"
   ]
  },
  {
   "cell_type": "markdown",
   "metadata": {},
   "source": [
    "Tout d'abord, on veut importer les données dans un tableau et en extraire une liste."
   ]
  },
  {
   "cell_type": "code",
   "execution_count": 2,
   "metadata": {},
   "outputs": [
    {
     "data": {
      "text/plain": [
       "list"
      ]
     },
     "execution_count": 2,
     "metadata": {},
     "output_type": "execute_result"
    }
   ],
   "source": [
    "df = pd.read_csv(\"dataset_spacy_fullannot.csv\", sep=\";\", encoding=\"utf-8\")\n",
    "corpus = df[\"sent\"].tolist()\n",
    "labels = df[\"label\"].tolist()\n",
    "corpus_labels = (corpus, labels)\n",
    "type(corpus)"
   ]
  },
  {
   "cell_type": "markdown",
   "metadata": {},
   "source": [
    "## Build a generator with data"
   ]
  },
  {
   "cell_type": "markdown",
   "metadata": {},
   "source": [
    "Maintenant, on veut créer un générateur à partir duquel on pourra entraîner notre propre modèle word2vec. Pour cela, on crée une classe qui représente notre corpus."
   ]
  },
  {
   "cell_type": "code",
   "execution_count": 3,
   "metadata": {},
   "outputs": [],
   "source": [
    "class Corpus:\n",
    "    \n",
    "    def __iter__(self):\n",
    "        for sent in corpus:\n",
    "            # Cast everything to strings\n",
    "            sent = str(sent)\n",
    "            # Bring everything to lowercase and remove widespaces\n",
    "            yield remove_widespace(str(sent).lower()).split(\" \")"
   ]
  },
  {
   "cell_type": "markdown",
   "metadata": {},
   "source": [
    "## Train the model"
   ]
  },
  {
   "cell_type": "markdown",
   "metadata": {},
   "source": [
    "A présent, on peut entraîner notre modèle word2vec sur le corpus."
   ]
  },
  {
   "cell_type": "code",
   "execution_count": 4,
   "metadata": {},
   "outputs": [],
   "source": [
    "sentences = Corpus()\n",
    "model = models.word2vec.Word2Vec(sentences=sentences,\n",
    "                                 window=10,\n",
    "                                 iter=4)"
   ]
  },
  {
   "cell_type": "code",
   "execution_count": 5,
   "metadata": {},
   "outputs": [
    {
     "data": {
      "text/plain": [
       "5031"
      ]
     },
     "execution_count": 5,
     "metadata": {},
     "output_type": "execute_result"
    }
   ],
   "source": [
    "len(model.wv.vocab)"
   ]
  },
  {
   "cell_type": "markdown",
   "metadata": {},
   "source": [
    "## Visualize vocabulary"
   ]
  },
  {
   "cell_type": "code",
   "execution_count": 6,
   "metadata": {},
   "outputs": [],
   "source": [
    "pca = PCA(n_components=2)"
   ]
  },
  {
   "cell_type": "code",
   "execution_count": 7,
   "metadata": {},
   "outputs": [
    {
     "data": {
      "text/plain": [
       "(5031, 100)"
      ]
     },
     "execution_count": 7,
     "metadata": {},
     "output_type": "execute_result"
    }
   ],
   "source": [
    "z = model.wv[model.wv.vocab]\n",
    "z.shape"
   ]
  },
  {
   "cell_type": "code",
   "execution_count": 8,
   "metadata": {},
   "outputs": [],
   "source": [
    "out = pca.fit_transform(z)"
   ]
  },
  {
   "cell_type": "code",
   "execution_count": 9,
   "metadata": {},
   "outputs": [
    {
     "data": {
      "image/png": "[encoded data removed]",
      "text/plain": [
       "<Figure size 720x720 with 1 Axes>"
      ]
     },
     "metadata": {
      "needs_background": "light"
     },
     "output_type": "display_data"
    }
   ],
   "source": [
    "plt.figure(figsize=(10, 10))\n",
    "plt.scatter(out[:, 0], out[:, 1])\n",
    "plt.show()"
   ]
  },
  {
   "cell_type": "markdown",
   "metadata": {},
   "source": [
    "## Creating tensors"
   ]
  },
  {
   "cell_type": "markdown",
   "metadata": {},
   "source": [
    "### Labels"
   ]
  },
  {
   "cell_type": "markdown",
   "metadata": {},
   "source": [
    "Pour créer un jeu de données d'entraînement, il nous faut tout d'abord convertir les différentes classes en *one hot encoded vector*, c'est-à-dire, des vecteurs qui ont une valeur de 1 pour un label spécifique et de 0 à tous les autres emplacements.\n",
    "\n",
    "Dans notre cas,\n",
    "* G (Page de garde) = [1, 0, 0, 0]\n",
    "* P (Procédure) = [0, 1, 0, 0]\n",
    "* M (Motifs) = [0, 0, 1, 0]\n",
    "* D (Décision) = [0, 0, 0, 1]"
   ]
  },
  {
   "cell_type": "code",
   "execution_count": 10,
   "metadata": {},
   "outputs": [],
   "source": [
    "oh_lab = []\n",
    "\n",
    "for label in df[\"label\"].tolist():\n",
    "    if label == \"G\":\n",
    "        oh_lab.append([1, 0, 0, 0])\n",
    "    elif label == \"P\":\n",
    "        oh_lab.append([0, 1, 0, 0])\n",
    "    elif label == \"M\":\n",
    "        oh_lab.append([0, 0, 1, 0])\n",
    "    elif label == \"D\":\n",
    "        oh_lab.append([0, 0, 0, 1])\n",
    "    else:\n",
    "        pri\n",
    "        \n",
    "oh_labels = np.array(oh_lab)"
   ]
  },
  {
   "cell_type": "markdown",
   "metadata": {},
   "source": [
    "Regardons rapidement la forme de la matrice que nous venons de créer."
   ]
  },
  {
   "cell_type": "code",
   "execution_count": 11,
   "metadata": {},
   "outputs": [
    {
     "data": {
      "text/plain": [
       "(20089, 4)"
      ]
     },
     "execution_count": 11,
     "metadata": {},
     "output_type": "execute_result"
    }
   ],
   "source": [
    "oh_labels.shape"
   ]
  },
  {
   "cell_type": "markdown",
   "metadata": {},
   "source": [
    "### Word vectors"
   ]
  },
  {
   "cell_type": "markdown",
   "metadata": {},
   "source": [
    "Maintenant, il nous faut récupérer les données et les stocker dans un format similaire."
   ]
  },
  {
   "cell_type": "code",
   "execution_count": 12,
   "metadata": {},
   "outputs": [
    {
     "data": {
      "text/plain": [
       "['extrait',\n",
       " 'des',\n",
       " 'minutes',\n",
       " 'du',\n",
       " 'greffe',\n",
       " 'tribunal',\n",
       " 'de',\n",
       " 'grande',\n",
       " 'instance',\n",
       " ':']"
      ]
     },
     "execution_count": 12,
     "metadata": {},
     "output_type": "execute_result"
    }
   ],
   "source": [
    "list(model.wv.vocab)[:10]"
   ]
  },
  {
   "cell_type": "code",
   "execution_count": 13,
   "metadata": {},
   "outputs": [],
   "source": [
    "vec_to_word = []\n",
    "\n",
    "for word in list(model.wv.vocab):\n",
    "    vec_to_word.append([model.wv[word], word])"
   ]
  },
  {
   "cell_type": "code",
   "execution_count": 14,
   "metadata": {},
   "outputs": [],
   "source": [
    "vec_to_word = np.array(vec_to_word, dtype=object)"
   ]
  },
  {
   "cell_type": "markdown",
   "metadata": {},
   "source": [
    "Ici, on crée un tableau multidimensionnel qui contient, en premier index, la liste de chaque mot. En second index, on a :\n",
    "* [0] : Le vecteur de shape (100, 1) qui représente le mot\n",
    "* [1] : Le mot associé"
   ]
  },
  {
   "cell_type": "code",
   "execution_count": 15,
   "metadata": {},
   "outputs": [
    {
     "data": {
      "text/plain": [
       "'extrait'"
      ]
     },
     "execution_count": 15,
     "metadata": {},
     "output_type": "execute_result"
    }
   ],
   "source": [
    "vec_to_word[0][1]"
   ]
  },
  {
   "cell_type": "code",
   "execution_count": 16,
   "metadata": {},
   "outputs": [
    {
     "data": {
      "text/plain": [
       "array([ 0.11337035, -0.04824004,  0.10634967,  0.00271679, -0.15657623,\n",
       "        0.05982374,  0.19210564, -0.03743409,  0.14981152, -0.02945155,\n",
       "        0.12935476, -0.08732701, -0.05857226,  0.07930357, -0.0767123 ,\n",
       "       -0.04165115,  0.09632702, -0.01253099,  0.00597241, -0.08813382,\n",
       "       -0.12938106,  0.01423859, -0.09062535,  0.00037086, -0.06282707,\n",
       "        0.0354025 , -0.20058356, -0.1368659 , -0.0057026 , -0.09837943,\n",
       "        0.00786544,  0.03116161, -0.02744048,  0.10791061,  0.1059406 ,\n",
       "        0.18066728, -0.03278616, -0.02583788,  0.00714078, -0.07290366,\n",
       "        0.00066156, -0.00098681, -0.01147579,  0.05362045, -0.08171234,\n",
       "       -0.01703435,  0.06371478, -0.06142912, -0.05369251, -0.05424117,\n",
       "       -0.12799552,  0.04460061,  0.01029171,  0.06995814,  0.00990111,\n",
       "       -0.07009608, -0.16185229, -0.11840427, -0.1260668 ,  0.06866408,\n",
       "        0.12116875,  0.02729678,  0.09337048, -0.00053125, -0.01544937,\n",
       "        0.09202047,  0.04596551,  0.1131782 , -0.08352186, -0.04724975,\n",
       "        0.11508816,  0.10295383,  0.08999512, -0.02815232,  0.03398285,\n",
       "       -0.09725251,  0.02886788,  0.05550997,  0.04324537,  0.09640728,\n",
       "        0.04603599,  0.03152281,  0.2333064 ,  0.00682895, -0.04323607,\n",
       "        0.00282962,  0.15765545,  0.05626172,  0.14636119,  0.09907982,\n",
       "       -0.03010298,  0.01822056, -0.05270524, -0.01563485,  0.05547241,\n",
       "        0.1866221 ,  0.0604513 , -0.01736998, -0.03800873, -0.03247004],\n",
       "      dtype=float32)"
      ]
     },
     "execution_count": 16,
     "metadata": {},
     "output_type": "execute_result"
    }
   ],
   "source": [
    "vec_to_word[0][0]"
   ]
  },
  {
   "cell_type": "markdown",
   "metadata": {},
   "source": [
    "### Tokenizing and padding"
   ]
  },
  {
   "cell_type": "markdown",
   "metadata": {},
   "source": [
    "Maintenant que nous avons les mots associés à leur vecteur, on peut reconstruire le jeu de données en remplaçant chaque phrase par une suite de vecteurs qui est leur représentation vectorielle associée.\n",
    "\n",
    "Commençons par nettoyer chaque phrase du corpus."
   ]
  },
  {
   "cell_type": "code",
   "execution_count": 17,
   "metadata": {},
   "outputs": [],
   "source": [
    "# Casting to str because of some int in several sentences, everything to lower case, remove spaces\n",
    "corpus = [remove_widespace(str(sent).lower()) for sent in corpus]"
   ]
  },
  {
   "cell_type": "markdown",
   "metadata": {},
   "source": [
    "Avant de pouvoir entraîner notre modèle, il nous faut transformer notre corpus en tokens."
   ]
  },
  {
   "cell_type": "code",
   "execution_count": 19,
   "metadata": {},
   "outputs": [],
   "source": [
    "tokenizer = Tokenizer()\n",
    "tokenizer.fit_on_texts(corpus)"
   ]
  },
  {
   "cell_type": "markdown",
   "metadata": {},
   "source": [
    "Regardons rapidement la longueur du dictionnaire que l'on obtient en sortie."
   ]
  },
  {
   "cell_type": "code",
   "execution_count": 20,
   "metadata": {},
   "outputs": [
    {
     "data": {
      "text/plain": [
       "13336"
      ]
     },
     "execution_count": 20,
     "metadata": {},
     "output_type": "execute_result"
    }
   ],
   "source": [
    "len(tokenizer.word_index)"
   ]
  },
  {
   "cell_type": "markdown",
   "metadata": {},
   "source": [
    "Maintenant, on peut convertir le corpus en tokens."
   ]
  },
  {
   "cell_type": "code",
   "execution_count": 21,
   "metadata": {},
   "outputs": [
    {
     "data": {
      "text/plain": [
       "20089"
      ]
     },
     "execution_count": 21,
     "metadata": {},
     "output_type": "execute_result"
    }
   ],
   "source": [
    "len(tokenizer.texts_to_sequences(corpus))"
   ]
  },
  {
   "cell_type": "markdown",
   "metadata": {},
   "source": [
    "Comme chaque phrase ne fait pas la même longueur, on utilise un padding pour ajouter simplement des 0 là où il n'y a aucun mot.\n",
    "\n",
    "Pour cela, il nous faut d'abord récupérer la phrase la plus longue du corpus."
   ]
  },
  {
   "cell_type": "code",
   "execution_count": 22,
   "metadata": {},
   "outputs": [
    {
     "data": {
      "text/plain": [
       "584"
      ]
     },
     "execution_count": 22,
     "metadata": {},
     "output_type": "execute_result"
    }
   ],
   "source": [
    "max_len = np.max([len(sent.split()) for sent in corpus])\n",
    "max_len"
   ]
  },
  {
   "cell_type": "markdown",
   "metadata": {},
   "source": [
    "Maintenant que l'on a la phrase la plus longue, on peut l'utiliser pour ajouter un padding à toutes les autres phrases."
   ]
  },
  {
   "cell_type": "code",
   "execution_count": 23,
   "metadata": {},
   "outputs": [],
   "source": [
    "X_train = tokenizer.texts_to_sequences(corpus)\n",
    "X_train = pad_sequences(X_train, maxlen=max_len)"
   ]
  },
  {
   "cell_type": "markdown",
   "metadata": {},
   "source": [
    "Vérifions la forme d'entrée de notre matrice qui contient les tokens."
   ]
  },
  {
   "cell_type": "code",
   "execution_count": 24,
   "metadata": {},
   "outputs": [
    {
     "data": {
      "text/plain": [
       "(20089, 584)"
      ]
     },
     "execution_count": 24,
     "metadata": {},
     "output_type": "execute_result"
    }
   ],
   "source": [
    "X_train.shape"
   ]
  },
  {
   "cell_type": "markdown",
   "metadata": {},
   "source": [
    "Créons maintenant un dataset à proprement parler, en insérant les vecteurs."
   ]
  },
  {
   "cell_type": "markdown",
   "metadata": {},
   "source": [
    "### Building actual dataset"
   ]
  },
  {
   "cell_type": "code",
   "execution_count": 25,
   "metadata": {},
   "outputs": [],
   "source": [
    "def replace_token_by_vector(token):\n",
    "    # Check the tokenizer mapping to get the corresponding word\n",
    "    word = list(tokenizer.word_index.keys())[list(tokenizer.word_index.values()).index(token)]\n",
    "    return model.wv[word]"
   ]
  },
  {
   "cell_type": "code",
   "execution_count": 26,
   "metadata": {},
   "outputs": [],
   "source": [
    "def filter_array(array):\n",
    "    array = array.tolist()\n",
    "    for ind, elem in enumerate(array):\n",
    "        if elem != 0:\n",
    "            try:\n",
    "                array[ind] = replace_token_by_vector(elem)\n",
    "            # If word is not in vocabulary, insert zeros\n",
    "            except KeyError:\n",
    "                array[ind] = np.zeros(100)\n",
    "        else:\n",
    "            array[ind] = np.zeros(100)\n",
    "    return array"
   ]
  },
  {
   "cell_type": "code",
   "execution_count": 29,
   "metadata": {},
   "outputs": [
    {
     "name": "stderr",
     "output_type": "stream",
     "text": [
      "100%|██████████| 20089/20089 [03:47<00:00, 88.28it/s] \n"
     ]
    }
   ],
   "source": [
    "X_train_vectors = []\n",
    "\n",
    "for x in tqdm(X_train):\n",
    "    # For int different than 0, replace token by the corresponding vector\n",
    "    x = filter_array(x)\n",
    "    X_train_vectors.append(x)"
   ]
  },
  {
   "cell_type": "markdown",
   "metadata": {},
   "source": [
    "Maintenant que nous avons construit notre jeu de données, on peut le reconvertir en tenseur Numpy."
   ]
  },
  {
   "cell_type": "code",
   "execution_count": 30,
   "metadata": {},
   "outputs": [],
   "source": [
    "X_train = np.array(X_train_vectors)"
   ]
  },
  {
   "cell_type": "markdown",
   "metadata": {},
   "source": [
    "On peut enfin voir la forme finale de notre jeu de données."
   ]
  },
  {
   "cell_type": "code",
   "execution_count": 31,
   "metadata": {},
   "outputs": [
    {
     "data": {
      "text/plain": [
       "(20089, 584, 100)"
      ]
     },
     "execution_count": 31,
     "metadata": {},
     "output_type": "execute_result"
    }
   ],
   "source": [
    "X_train.shape"
   ]
  },
  {
   "cell_type": "markdown",
   "metadata": {},
   "source": [
    "Et celle de notre jeu de labels."
   ]
  },
  {
   "cell_type": "code",
   "execution_count": 32,
   "metadata": {},
   "outputs": [],
   "source": [
    "Y_train = np.array(oh_labels)"
   ]
  },
  {
   "cell_type": "code",
   "execution_count": 33,
   "metadata": {},
   "outputs": [
    {
     "data": {
      "text/plain": [
       "(20089, 4)"
      ]
     },
     "execution_count": 33,
     "metadata": {},
     "output_type": "execute_result"
    }
   ],
   "source": [
    "Y_train.shape"
   ]
  },
  {
   "cell_type": "markdown",
   "metadata": {},
   "source": [
    "On peut ouvrir un pickle à présent pour exporter les vecteurs et pouvoir entraîner notre modèle sur une machine virtuelle dotée d'un GPU."
   ]
  },
  {
   "cell_type": "markdown",
   "metadata": {},
   "source": [
    "## Compressing files"
   ]
  },
  {
   "cell_type": "markdown",
   "metadata": {},
   "source": [
    "Pour pouvoir charger les tenseurs progressivement pour l'apprentissage, on peut les stocker dans des fichiers npz compressés."
   ]
  },
  {
   "cell_type": "code",
   "execution_count": 34,
   "metadata": {},
   "outputs": [],
   "source": [
    "targets = []\n",
    "for i in range(Y_train.shape[0]):\n",
    "    targets.append(Y_train[i])"
   ]
  },
  {
   "cell_type": "code",
   "execution_count": 35,
   "metadata": {},
   "outputs": [],
   "source": [
    "inputs = []\n",
    "for i in range(X_train.shape[0]):\n",
    "    inputs.append(X_train[i])"
   ]
  },
  {
   "cell_type": "code",
   "execution_count": 38,
   "metadata": {},
   "outputs": [],
   "source": [
    "np.savez_compressed(\"inputs.npz\", *inputs)"
   ]
  },
  {
   "cell_type": "code",
   "execution_count": 39,
   "metadata": {},
   "outputs": [],
   "source": [
    "np.savez_compressed(\"train.npz\", *targets)"
   ]
  }
 ],
 "metadata": {
  "kernelspec": {
   "display_name": "Python 3",
   "language": "python",
   "name": "python3"
  },
  "language_info": {
   "codemirror_mode": {
    "name": "ipython",
    "version": 3
   },
   "file_extension": ".py",
   "mimetype": "text/x-python",
   "name": "python",
   "nbconvert_exporter": "python",
   "pygments_lexer": "ipython3",
   "version": "3.8.3"
  }
 },
 "nbformat": 4,
 "nbformat_minor": 4
}
